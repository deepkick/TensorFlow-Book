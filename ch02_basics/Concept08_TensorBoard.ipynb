{
 "cells": [
  {
   "cell_type": "markdown",
   "metadata": {},
   "source": [
    "# Ch `02`: Concept `08`"
   ]
  },
  {
   "cell_type": "markdown",
   "metadata": {},
   "source": [
    "## Using TensorBoard"
   ]
  },
  {
   "cell_type": "markdown",
   "metadata": {},
   "source": [
    "TensorBoard is a great way to visualize what's happening behind the code. \n",
    "\n",
    "In this example, we'll loop through some numbers to improve our guess of the average value. Then we can visualize the results on TensorBoard. \n",
    "\n",
    "Let's just set ourselves up with some data to work with:"
   ]
  },
  {
   "cell_type": "code",
   "execution_count": 1,
   "metadata": {},
   "outputs": [],
   "source": [
    "import tensorflow as tf\n",
    "import numpy as np\n",
    "\n",
    "raw_data = np.random.normal(10, 1, 100)"
   ]
  },
  {
   "cell_type": "markdown",
   "metadata": {},
   "source": [
    "The moving average is defined as follows:"
   ]
  },
  {
   "cell_type": "code",
   "execution_count": 2,
   "metadata": {},
   "outputs": [],
   "source": [
    "alpha = tf.constant(0.05)\n",
    "curr_value = tf.placeholder(tf.float32)\n",
    "prev_avg = tf.Variable(0.)\n",
    "\n",
    "update_avg = alpha * curr_value + (1 - alpha) * prev_avg"
   ]
  },
  {
   "cell_type": "markdown",
   "metadata": {},
   "source": [
    "Here's what we care to visualize:"
   ]
  },
  {
   "cell_type": "code",
   "execution_count": 3,
   "metadata": {},
   "outputs": [],
   "source": [
    "avg_hist = tf.summary.scalar(\"running_average\", update_avg)\n",
    "value_hist = tf.summary.scalar(\"incoming_values\", curr_value)\n",
    "\n",
    "merged = tf.summary.merge_all()\n",
    "writer = tf.summary.FileWriter(\"./logs\")"
   ]
  },
  {
   "cell_type": "markdown",
   "metadata": {},
   "source": [
    "Time to compute the moving averages. We'll also run the `merged` op to track how the values change:"
   ]
  },
  {
   "cell_type": "code",
   "execution_count": 4,
   "metadata": {},
   "outputs": [
    {
     "name": "stdout",
     "output_type": "stream",
     "text": [
      "9.504196966429323 0.47520986\n",
      "9.732927641706194 0.93809575\n",
      "8.48059056363379 1.3152205\n",
      "9.148277972947492 1.7068733\n",
      "11.341863010029778 2.1886227\n",
      "8.824829483224809 2.520433\n",
      "8.769727024765176 2.8328977\n",
      "12.099025568789477 3.296204\n",
      "10.456116335360848 3.6541998\n",
      "10.307030822879968 3.9868414\n",
      "12.49985697463368 4.4124923\n",
      "9.578302896755048 4.670783\n",
      "10.679697427364877 4.9712286\n",
      "7.417506094732726 5.0935426\n",
      "9.956175848165731 5.336674\n",
      "11.588846837490884 5.649283\n",
      "10.01924011810772 5.8677807\n",
      "10.15594132702992 6.0821886\n",
      "9.986951789286794 6.2774267\n",
      "10.12928748538437 6.47002\n",
      "10.599556244749616 6.6764965\n",
      "8.256914862422372 6.755517\n",
      "8.586842004211373 6.8470836\n",
      "10.055327048278249 7.007496\n",
      "10.49698472533053 7.1819706\n",
      "9.565094996873702 7.301127\n",
      "11.83209259296518 7.527675\n",
      "11.442046158873602 7.7233934\n",
      "10.659791870268169 7.870213\n",
      "9.793050517364362 7.966355\n",
      "9.26718838264499 8.031397\n",
      "9.330114831805751 8.096333\n",
      "11.602259345108532 8.271629\n",
      "10.353506436094182 8.375723\n",
      "10.542211881527894 8.484047\n",
      "10.059290660285825 8.562809\n",
      "9.843811268537479 8.626859\n",
      "9.555927070390565 8.673312\n",
      "10.077995008093371 8.7435465\n",
      "9.691851497849074 8.790961\n",
      "10.538283469892512 8.878327\n",
      "9.815596640021129 8.925191\n",
      "9.833913228269848 8.970627\n",
      "9.949263259410712 9.019559\n",
      "8.024777731217368 8.969819\n",
      "11.29987679535804 9.086322\n",
      "10.113419371046694 9.137676\n",
      "10.260180019232715 9.193801\n",
      "11.686384850066574 9.31843\n",
      "8.522075922165945 9.278612\n",
      "10.050447670777345 9.3172035\n",
      "10.92315928723603 9.397501\n",
      "10.43215734375942 9.449234\n",
      "10.817802256084933 9.517662\n",
      "8.656630021384249 9.47461\n",
      "9.11013765646203 9.456387\n",
      "10.966217331041431 9.531878\n",
      "8.73083373516279 9.491826\n",
      "11.320013950441336 9.583236\n",
      "11.769002025264856 9.692524\n",
      "10.353039824163183 9.725549\n",
      "9.390355263913351 9.708789\n",
      "8.518034523081802 9.649251\n",
      "9.618349853767814 9.647706\n",
      "8.217613135562996 9.576201\n",
      "10.586053266071474 9.626694\n",
      "8.777939208143943 9.584256\n",
      "8.674856069027467 9.538786\n",
      "9.826009189091712 9.553147\n",
      "9.842299722679657 9.567605\n",
      "11.448194622842259 9.661634\n",
      "11.037587141837335 9.730432\n",
      "10.908281584809275 9.789324\n",
      "9.00197187508415 9.749956\n",
      "12.429287611063408 9.883923\n",
      "10.322950657715621 9.905874\n",
      "10.442529970226854 9.932707\n",
      "9.502582672175173 9.911201\n",
      "9.225083158308653 9.876895\n",
      "10.076912289669066 9.886895\n",
      "11.148241541083586 9.949963\n",
      "9.94118846614789 9.949524\n",
      "9.407913654425295 9.922443\n",
      "8.878407683696725 9.870241\n",
      "10.27850230304302 9.890655\n",
      "10.591816976404974 9.925713\n",
      "9.491695533611937 9.904012\n",
      "9.147788363658245 9.8662\n",
      "10.321188481677883 9.88895\n",
      "8.806734836477103 9.83484\n",
      "8.880697840845423 9.787132\n",
      "10.828907889573808 9.839221\n",
      "10.36389543665631 9.865455\n",
      "10.47170569590294 9.895767\n",
      "10.009658793539199 9.901462\n",
      "10.330503162152661 9.922914\n",
      "11.06338836090233 9.979937\n",
      "10.456836359483463 10.003781\n",
      "10.063032752371036 10.006744\n",
      "10.472474014096111 10.03003\n"
     ]
    }
   ],
   "source": [
    "init = tf.global_variables_initializer()\n",
    "\n",
    "with tf.Session() as sess:\n",
    "    sess.run(init)\n",
    "    for i in range(len(raw_data)):\n",
    "        summary_str, curr_avg = sess.run([merged, update_avg], feed_dict={curr_value: raw_data[i]})\n",
    "        sess.run(tf.assign(prev_avg, curr_avg))\n",
    "        print(raw_data[i], curr_avg)\n",
    "        writer.add_summary(summary_str, i)"
   ]
  },
  {
   "cell_type": "markdown",
   "metadata": {},
   "source": [
    "Check out the visualization by running TensorBoard from the terminal:\n",
    "\n",
    "    $ tensorboard --logdir=path/to/logs"
   ]
  },
  {
   "cell_type": "code",
   "execution_count": 5,
   "metadata": {},
   "outputs": [],
   "source": [
    "#made the logs be written successfully\n",
    "writer.close()"
   ]
  },
  {
   "cell_type": "code",
   "execution_count": null,
   "metadata": {},
   "outputs": [],
   "source": []
  }
 ],
 "metadata": {
  "kernelspec": {
   "display_name": "Python 3",
   "language": "python",
   "name": "python3"
  },
  "language_info": {
   "codemirror_mode": {
    "name": "ipython",
    "version": 3
   },
   "file_extension": ".py",
   "mimetype": "text/x-python",
   "name": "python",
   "nbconvert_exporter": "python",
   "pygments_lexer": "ipython3",
   "version": "3.5.6"
  }
 },
 "nbformat": 4,
 "nbformat_minor": 1
}
