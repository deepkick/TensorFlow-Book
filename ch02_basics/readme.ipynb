{
 "cells": [
  {
   "cell_type": "markdown",
   "metadata": {},
   "source": [
    "# Chapter 2\n",
    "\n",
    "<p align=\"center\"><a href=\"http://tensorflowbook.com\" target=\"_blank\"><img src=\"http://i.imgur.com/0buO2b2.png\"/></a></p>\n",
    "\n",
    "Before implementing machine learning algorithms, let’s first familiarize ourselves with how to use TensorFlow. You’re going to get your hands dirty writing some simple code right away! This chapter will cover some essential advantages of TensorFlow to convince you it’s the machine learning library of choice.\n",
    "\n",
    "- **Concept 1**: Defining tensors\n",
    "- **Concept 2**: Evaluating ops\n",
    "- **Concept 3**: Interactive session\n",
    "- **Concept 4**: Session loggings\n",
    "- **Concept 5**: Variables\n",
    "- **Concept 6**: Saving variables\n",
    "- **Concept 7**: Loading variables\n",
    "- **Concept 8**: TensorBoard\n",
    "\n",
    "---\n",
    "\n",
    "* Listing 2-4: `types.py`\n",
    "* Listing 5-6: `main.py`\n",
    "* Listing 7: `interactive_session.py`\n",
    "* Listing 8: `logging.py`\n",
    "* Listing 9: `spikes.py`\n",
    "* Listing 10: `saving_vars.py`\n",
    "* Listing 11: `loading_vars.py`\n",
    "* Listing 12-15: `moving_avg.py`"
   ]
  },
  {
   "cell_type": "code",
   "execution_count": null,
   "metadata": {},
   "outputs": [],
   "source": []
  }
 ],
 "metadata": {
  "kernelspec": {
   "display_name": "Python 3",
   "language": "python",
   "name": "python3"
  },
  "language_info": {
   "codemirror_mode": {
    "name": "ipython",
    "version": 3
   },
   "file_extension": ".py",
   "mimetype": "text/x-python",
   "name": "python",
   "nbconvert_exporter": "python",
   "pygments_lexer": "ipython3",
   "version": "3.7.3"
  }
 },
 "nbformat": 4,
 "nbformat_minor": 2
}
