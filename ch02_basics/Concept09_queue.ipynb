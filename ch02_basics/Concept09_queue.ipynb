{
 "cells": [
  {
   "cell_type": "markdown",
   "metadata": {},
   "source": [
    "# Ch `02`: Concept `09`"
   ]
  },
  {
   "cell_type": "markdown",
   "metadata": {},
   "source": [
    "## Using Queues"
   ]
  },
  {
   "cell_type": "markdown",
   "metadata": {},
   "source": [
    "If you have a lot of training data, you probably don't want to load it all into memory at once. The QueueRunner in TensorFlow is a tool to efficiently employ a queue data-structure in a multi-threaded way."
   ]
  },
  {
   "cell_type": "code",
   "execution_count": 1,
   "metadata": {},
   "outputs": [],
   "source": [
    "import tensorflow as tf\n",
    "import numpy as np"
   ]
  },
  {
   "cell_type": "markdown",
   "metadata": {},
   "source": [
    "We will be running multiple threads, so let's figure out the number of CPUs:"
   ]
  },
  {
   "cell_type": "code",
   "execution_count": 2,
   "metadata": {},
   "outputs": [],
   "source": [
    "import multiprocessing\n",
    "NUM_THREADS = multiprocessing.cpu_count()"
   ]
  },
  {
   "cell_type": "markdown",
   "metadata": {},
   "source": [
    "Generate some fake data to work with:"
   ]
  },
  {
   "cell_type": "code",
   "execution_count": 3,
   "metadata": {},
   "outputs": [],
   "source": [
    "xs = np.random.randn(100, 3)\n",
    "ys = np.random.randint(0, 2, size=100)"
   ]
  },
  {
   "cell_type": "markdown",
   "metadata": {},
   "source": [
    "Here's a couple concrete examples of our data:"
   ]
  },
  {
   "cell_type": "code",
   "execution_count": 4,
   "metadata": {},
   "outputs": [
    {
     "name": "stdout",
     "output_type": "stream",
     "text": [
      "Input [ 1.10093799  0.93379728 -0.51003898]  --->  Output 0\n",
      "Input [ 0.50678392 -0.73707906  0.60728424]  --->  Output 0\n",
      "Input [ 1.22735133 -0.09350287  0.30050392]  --->  Output 0\n",
      "Input [-0.94552237  0.14116032  0.12328885]  --->  Output 0\n",
      "Input [ 0.61669352  0.29604105 -1.03617857]  --->  Output 0\n"
     ]
    }
   ],
   "source": [
    "xs_and_ys = zip(xs, ys)\n",
    "for _ in range(5):\n",
    "    x, y = next(xs_and_ys)\n",
    "    print('Input {}  --->  Output {}'.format(x, y))"
   ]
  },
  {
   "cell_type": "markdown",
   "metadata": {},
   "source": [
    "Define a queue:"
   ]
  },
  {
   "cell_type": "code",
   "execution_count": 5,
   "metadata": {},
   "outputs": [],
   "source": [
    "queue = tf.FIFOQueue(capacity=1000, dtypes=[tf.float32, tf.int32])"
   ]
  },
  {
   "cell_type": "markdown",
   "metadata": {},
   "source": [
    "Set up the enqueue and dequeue ops:"
   ]
  },
  {
   "cell_type": "code",
   "execution_count": 6,
   "metadata": {},
   "outputs": [],
   "source": [
    "enqueue_op = queue.enqueue_many([xs, ys])\n",
    "x_op, y_op = queue.dequeue()"
   ]
  },
  {
   "cell_type": "markdown",
   "metadata": {},
   "source": [
    "Define a QueueRunner:"
   ]
  },
  {
   "cell_type": "code",
   "execution_count": 7,
   "metadata": {},
   "outputs": [],
   "source": [
    "qr = tf.train.QueueRunner(queue, [enqueue_op] * 4)"
   ]
  },
  {
   "cell_type": "markdown",
   "metadata": {},
   "source": [
    "Now that all variables and ops have been defined, let's get started with a session:"
   ]
  },
  {
   "cell_type": "code",
   "execution_count": 8,
   "metadata": {},
   "outputs": [],
   "source": [
    "sess = tf.InteractiveSession()"
   ]
  },
  {
   "cell_type": "markdown",
   "metadata": {},
   "source": [
    "Create threads for the QueueRunner:"
   ]
  },
  {
   "cell_type": "code",
   "execution_count": 9,
   "metadata": {},
   "outputs": [],
   "source": [
    "coord = tf.train.Coordinator()\n",
    "enqueue_threads = qr.create_threads(sess, coord=coord, start=True)"
   ]
  },
  {
   "cell_type": "markdown",
   "metadata": {},
   "source": [
    "Test out dequeueing:"
   ]
  },
  {
   "cell_type": "code",
   "execution_count": 10,
   "metadata": {},
   "outputs": [
    {
     "name": "stdout",
     "output_type": "stream",
     "text": [
      "[ 1.100938   0.9337973 -0.510039 ] 0\n",
      "[ 0.5067839  -0.7370791   0.60728425] 0\n",
      "[ 1.2273513  -0.09350287  0.3005039 ] 0\n",
      "[-0.94552237  0.14116032  0.12328885] 0\n",
      "[ 0.6166935   0.29604104 -1.0361786 ] 0\n",
      "[-0.46848592  0.39985955  0.8962615 ] 0\n",
      "[0.9295709 0.4174584 1.1835827] 0\n",
      "[0.03867971 1.8632767  0.35298023] 1\n",
      "[ 1.3847383 -1.683892   1.2527925] 0\n",
      "[-0.46043342 -0.13380565  1.6195946 ] 0\n",
      "[-1.4583324 -1.1823987  1.3123245] 0\n",
      "[ 0.58261675  0.6815601  -0.2556204 ] 0\n",
      "[-0.23592715 -0.11537535 -1.3488603 ] 1\n",
      "[-1.0837636   0.95104545 -1.2623904 ] 1\n",
      "[-0.7440529  -0.88322514  0.45656666] 0\n",
      "[ 0.6256331  -0.03097991  0.2791929 ] 0\n",
      "[ 1.9985876 -0.4805818 -1.2142864] 0\n",
      "[ 0.59213597  0.72141516 -0.20481913] 0\n",
      "[-0.19362614 -0.8165396   1.2770112 ] 0\n",
      "[ 1.4228933 -2.1072707 -2.2259014] 1\n",
      "[ 1.2638766  1.3474947 -0.778809 ] 1\n",
      "[ 0.5630879 -0.8346478 -1.0944185] 0\n",
      "[-1.2291574  -0.20824137  2.597347  ] 1\n",
      "[-1.992602   -0.74801546 -0.35211262] 0\n",
      "[-0.32680854 -3.2792034   0.29830015] 1\n",
      "[ 0.5317047   0.00475504 -1.5517825 ] 0\n",
      "[ 1.6379513  -0.09913822  1.960911  ] 1\n",
      "[ 0.6992677  -0.4779259   0.07374225] 0\n",
      "[ 0.15163265 -0.23939243  2.3740418 ] 1\n",
      "[-0.09121545  1.921375   -0.44171596] 1\n",
      "[4.281402   0.28047833 0.7548815 ] 1\n",
      "[ 0.6920165 -1.397993   1.8834233] 0\n",
      "[2.1138241  0.87776774 1.2197587 ] 0\n",
      "[ 0.29621866 -1.6142192  -0.06660945] 0\n",
      "[-1.2550334   0.43146127 -1.6477857 ] 1\n",
      "[ 0.12665875 -1.2413764  -0.4561445 ] 1\n",
      "[0.9594269  0.9911794  0.14252755] 0\n",
      "[ 0.7550271  -1.1730412  -0.23868132] 1\n",
      "[ 0.30599558 -1.1129303   0.28589606] 1\n",
      "[-0.9809968  -0.28387207  2.4689255 ] 0\n",
      "[-0.34296256 -1.2046144  -0.60228646] 1\n",
      "[-0.34400985  0.25900817 -0.45176357] 0\n",
      "[-0.78963715  1.9751959   1.0273057 ] 1\n",
      "[ 0.7888183   0.07430866 -0.0295709 ] 1\n",
      "[ 0.3001135 -2.3008056 -1.4981171] 1\n",
      "[ 0.8317264  -0.30352813 -1.3071103 ] 1\n",
      "[-1.7304109   1.1475552   0.24783152] 1\n",
      "[0.24895453 0.9857882  1.1735917 ] 1\n",
      "[0.2893312  0.55695075 0.7631508 ] 1\n",
      "[-0.11494162 -0.14574184  0.8580699 ] 0\n",
      "[-0.93807435 -1.6334033  -0.7322092 ] 0\n",
      "[ 0.01799169  1.2633214  -0.794018  ] 0\n",
      "[-0.5336724  1.0126437 -1.1772494] 0\n",
      "[ 0.03814138  0.38929287 -0.97212553] 1\n",
      "[-0.95837164  1.3662283  -1.0576531 ] 0\n",
      "[-0.15311916 -1.0052385  -0.38940436] 0\n",
      "[-0.70055413  0.01323142 -0.71301556] 0\n",
      "[-0.38401002 -1.1465062  -2.0451026 ] 0\n",
      "[-0.62723863 -0.20825674  0.5117752 ] 1\n",
      "[ 0.18761316 -1.9311656  -1.5606946 ] 0\n",
      "[ 0.700764   -0.12130042 -1.3961606 ] 1\n",
      "[-0.18861076 -0.9686694  -1.1243713 ] 1\n",
      "[ 3.4020698  -1.0014573  -0.14677489] 0\n",
      "[0.3641541  0.09833676 0.5264645 ] 1\n",
      "[-0.27024648  0.7573438   0.46989834] 0\n",
      "[-0.37824792  0.6175342   1.4792317 ] 0\n",
      "[ 1.0158786 -0.4635976 -1.117942 ] 1\n",
      "[-0.37438193 -0.06903756 -0.14909264] 1\n",
      "[ 0.20777014 -0.23512003  0.33118963] 0\n",
      "[ 0.58000505  0.9772177  -1.5039126 ] 0\n",
      "[-0.01359581 -0.90824     0.19699274] 0\n",
      "[0.6220111  0.40439808 1.3825008 ] 0\n",
      "[ 1.7785786  1.1190609 -0.7251551] 1\n",
      "[ 1.4060683   0.8284544  -0.69033265] 1\n",
      "[-0.12043727  0.16841653  0.7680073 ] 0\n",
      "[-0.8750127  -1.470793   -0.02368615] 1\n",
      "[-3.0063238   1.0415529  -0.47768784] 1\n",
      "[-1.3230544   1.0691495  -0.10248164] 1\n",
      "[ 0.32741696  0.8477254  -1.5344421 ] 0\n",
      "[ 0.6422524  -0.24994093 -0.56105036] 1\n",
      "[-0.21875882 -0.10058207  1.2070572 ] 1\n",
      "[-0.11525988 -1.079132   -1.6644018 ] 1\n",
      "[-0.16636641  0.12943335  0.65808773] 1\n",
      "[-2.1719267  -0.5780115   0.00709901] 1\n",
      "[-0.45830908  0.09959182 -0.9514573 ] 1\n",
      "[-1.392664  -0.541525   1.5556246] 1\n",
      "[0.49329758 0.53301704 0.34120855] 0\n",
      "[0.34185135 1.6240845  1.2107779 ] 0\n",
      "[0.7108193  0.06941663 0.0662154 ] 0\n",
      "[-1.6701685  0.754976   0.500593 ] 0\n",
      "[-0.06105269  2.4958584  -0.1408201 ] 1\n",
      "[-1.4609703   0.39007452 -1.7074633 ] 1\n",
      "[-1.2810419   0.21069483  0.8313196 ] 1\n",
      "[ 0.03312945 -0.17433144 -0.75565404] 0\n",
      "[-0.5401292 -1.0478822  0.2644931] 1\n",
      "[-1.4595143   0.19310246 -1.4236094 ] 0\n",
      "[-0.20145787 -0.04104929 -1.4925709 ] 0\n",
      "[ 0.11008608 -0.55402553 -1.3354759 ] 1\n",
      "[ 0.39564654 -0.37531742  1.1274881 ] 1\n",
      "[-1.0668839   1.612737    0.99287575] 1\n"
     ]
    }
   ],
   "source": [
    "for _ in range(100):\n",
    "    if coord.should_stop():\n",
    "        break\n",
    "    x, y = sess.run([x_op, y_op])\n",
    "    print(x, y)\n",
    "coord.request_stop()\n",
    "coord.join(enqueue_threads)"
   ]
  },
  {
   "cell_type": "code",
   "execution_count": null,
   "metadata": {},
   "outputs": [],
   "source": []
  }
 ],
 "metadata": {
  "kernelspec": {
   "display_name": "Python 3",
   "language": "python",
   "name": "python3"
  },
  "language_info": {
   "codemirror_mode": {
    "name": "ipython",
    "version": 3
   },
   "file_extension": ".py",
   "mimetype": "text/x-python",
   "name": "python",
   "nbconvert_exporter": "python",
   "pygments_lexer": "ipython3",
   "version": "3.5.6"
  }
 },
 "nbformat": 4,
 "nbformat_minor": 2
}
